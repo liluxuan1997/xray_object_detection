{
 "cells": [
  {
   "cell_type": "code",
   "execution_count": 2,
   "metadata": {},
   "outputs": [],
   "source": [
    "from mmdet.datasets import build_dataset"
   ]
  },
  {
   "cell_type": "code",
   "execution_count": 3,
   "metadata": {},
   "outputs": [],
   "source": [
    "from mmdet.datasets import VOCDataset"
   ]
  },
  {
   "cell_type": "code",
   "execution_count": 11,
   "metadata": {},
   "outputs": [],
   "source": [
    "data_root = 'data/VOCdevkit/'\n",
    "ann_file = data_root + 'VOC2007/ImageSets/Main/test.txt'\n",
    "img_prefix = data_root + 'VOC2007/'\n",
    "img_scale = (1152, 1200)\n",
    "img_norm_cfg = dict(\n",
    "    mean=[123.675, 116.28, 103.53], std=[58.395, 57.12, 57.375], to_rgb=True)\n",
    "voc_dataset = VOCDataset(ann_file=ann_file, img_prefix=img_prefix, img_scale=img_scale, img_norm_cfg=img_norm_cfg)"
   ]
  },
  {
   "cell_type": "code",
   "execution_count": 12,
   "metadata": {},
   "outputs": [],
   "source": [
    "img_infos = voc_dataset.load_annotations(ann_file)"
   ]
  },
  {
   "cell_type": "code",
   "execution_count": 13,
   "metadata": {},
   "outputs": [
    {
     "data": {
      "text/plain": [
       "4919"
      ]
     },
     "execution_count": 13,
     "metadata": {},
     "output_type": "execute_result"
    }
   ],
   "source": [
    "len(img_infos)"
   ]
  },
  {
   "cell_type": "code",
   "execution_count": 14,
   "metadata": {},
   "outputs": [],
   "source": [
    "# Get distribution of bounding box\n",
    "# 2,  4,  8, 16, 32, 64, 128\n",
    "box_sizes = []\n",
    "for i in range(len(img_infos)):\n",
    "    ann = voc_dataset.get_ann_info(i)\n",
    "    for bbox in ann['bboxes']:\n",
    "        box_sizes.append(max(bbox[2] - bbox[0], bbox[3] - bbox[1]))"
   ]
  },
  {
   "cell_type": "code",
   "execution_count": 15,
   "metadata": {},
   "outputs": [
    {
     "data": {
      "image/png": "[encoded data removed]",
      "text/plain": [
       "<Figure size 432x288 with 1 Axes>"
      ]
     },
     "metadata": {
      "needs_background": "light"
     },
     "output_type": "display_data"
    }
   ],
   "source": [
    "%matplotlib inline\n",
    "import matplotlib.pyplot as plt\n",
    "import numpy as np\n",
    "box_sizes = np.array(box_sizes)\n",
    "plt.hist(box_sizes, bins = range(1024))\n",
    "plt.show()"
   ]
  },
  {
   "cell_type": "code",
   "execution_count": 17,
   "metadata": {},
   "outputs": [
    {
     "data": {
      "text/plain": [
       "15231"
      ]
     },
     "execution_count": 17,
     "metadata": {},
     "output_type": "execute_result"
    }
   ],
   "source": [
    "len(box_sizes)"
   ]
  },
  {
   "cell_type": "code",
   "execution_count": 19,
   "metadata": {},
   "outputs": [
    {
     "name": "stdout",
     "output_type": "stream",
     "text": [
      "length 0 ~ 16 : 0.00013131114175037753/2\n",
      "length 16 ~ 32 : 0.018186593132427285/277\n",
      "length 32 ~ 64 : 0.13722014312914452/2090\n",
      "length 64 ~ 128 : 0.34777755892587486/5297\n",
      "length 128 ~ 256 : 0.41395837436806515/6305\n",
      "length 256 ~ 512 : 0.058564769220668375/892\n",
      "length 512 ~ 1024 : 0.00794432407589784/121\n",
      "length 1024 ~ 100000000.0 : 0.0005909001378766989/9\n"
     ]
    }
   ],
   "source": [
    "scales = [0,16, 32, 64, 128,256,512,1024,1e8]\n",
    "for i in range(len(scales) - 1):\n",
    "    num = np.sum((box_sizes > scales[i]) & (box_sizes < scales[i+1]))\n",
    "    ratio = num/len(box_sizes)\n",
    "    print('length {} ~ {} : {}/{}'.format(scales[i], scales[i+1], ratio, num))"
   ]
  },
  {
   "cell_type": "code",
   "execution_count": 18,
   "metadata": {},
   "outputs": [
    {
     "data": {
      "text/plain": [
       "0.0"
      ]
     },
     "execution_count": 18,
     "metadata": {},
     "output_type": "execute_result"
    }
   ],
   "source": [
    "min(box_sizes)"
   ]
  },
  {
   "cell_type": "code",
   "execution_count": null,
   "metadata": {},
   "outputs": [],
   "source": []
  }
 ],
 "metadata": {
  "kernelspec": {
   "display_name": "python open-mmlab",
   "language": "python",
   "name": "open-mmlab"
  },
  "language_info": {
   "codemirror_mode": {
    "name": "ipython",
    "version": 3
   },
   "file_extension": ".py",
   "mimetype": "text/x-python",
   "name": "python",
   "nbconvert_exporter": "python",
   "pygments_lexer": "ipython3",
   "version": "3.7.4"
  }
 },
 "nbformat": 4,
 "nbformat_minor": 2
}
